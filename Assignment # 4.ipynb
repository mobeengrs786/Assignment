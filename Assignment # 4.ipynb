{
 "cells": [
  {
   "cell_type": "markdown",
   "metadata": {},
   "source": [
    "# Name : Mohammad Mobeen"
   ]
  },
  {
   "cell_type": "markdown",
   "metadata": {},
   "source": [
    "# Assignment # 4"
   ]
  },
  {
   "cell_type": "markdown",
   "metadata": {},
   "source": [
    "Question1:\n",
    "Use a dictionary to store information about a person you know. Store their first name, last name, age, and the city in which they live. You should have keys such as first_name, last_name, age, and city. Print each piece of information stored in your dictionary. Add a new key value pair about qualification then update the qualification value to high academic level then delete it.\n"
   ]
  },
  {
   "cell_type": "code",
   "execution_count": 2,
   "metadata": {},
   "outputs": [
    {
     "name": "stdout",
     "output_type": "stream",
     "text": [
      "First name: Mohammad\n",
      "Last name: Mobeen\n",
      "Age: 36\n",
      "City: Karachi\n",
      "{'first_name': 'Mohammad', 'last_name': 'Mobeen', 'age': '36', 'city': 'Karachi', 'qualification': 'academic high level'}\n",
      "{'first_name': 'Mohammad', 'last_name': 'Mobeen', 'age': '36', 'city': 'Karachi'}\n"
     ]
    }
   ],
   "source": [
    "person = {\n",
    "    'first_name': 'Mohammad',\n",
    "    'last_name': 'Mobeen',\n",
    "    'age': '36',\n",
    "    'city': 'Karachi',\n",
    "    }\n",
    "\n",
    "print('First name: ' + person['first_name'].title())\n",
    "print('Last name: ' + person['last_name'].title())\n",
    "print('Age: ' + person['age'])\n",
    "print('City: ' + person['city'].title())\n",
    "person['qualification']='academic high level' \n",
    "print(person)\n",
    "\n",
    "del person[\"qualification\"]\n",
    "print(person)"
   ]
  },
  {
   "cell_type": "code",
   "execution_count": null,
   "metadata": {},
   "outputs": [],
   "source": []
  },
  {
   "cell_type": "markdown",
   "metadata": {},
   "source": [
    "Question2:\n",
    "Make a dictionary called cities. Use the names of three cities as keys in your dictionary. Create a dictionary of information about each city and include the country that the city is in, its approximate population, and one fact about that city. The keys for each city’s dictionary should be something like country, population, and fact. Print the name of each city and all of the information you have stored about it.\n"
   ]
  },
  {
   "cell_type": "code",
   "execution_count": 3,
   "metadata": {},
   "outputs": [
    {
     "name": "stdout",
     "output_type": "stream",
     "text": [
      "\n",
      "Gilgit is in Pakistan.\n",
      "  It has a population of about 230292.\n",
      "  The K2 mountains are nearby.\n",
      "\n",
      "Tokyo is in Japan.\n",
      "  It has a population of about 8956000.\n",
      "  The Mount Takao mountains are nearby.\n",
      "\n",
      "Beijing is in China.\n",
      "  It has a population of about 4003285.\n",
      "  The Shangfang mountains are nearby.\n"
     ]
    }
   ],
   "source": [
    "cities = {\n",
    "    'gilgit': {\n",
    "        'country': 'pakistan',\n",
    "        'population': 230292,\n",
    "        'nearby mountains': 'k2',\n",
    "        },\n",
    "    'tokyo': {\n",
    "        'country': 'japan',\n",
    "        'population': 8956000,\n",
    "        'nearby mountains': 'mount takao',\n",
    "        },\n",
    "    'beijing': {\n",
    "        'country': 'china',\n",
    "        'population': 4003285,\n",
    "        'nearby mountains': 'shangfang',\n",
    "        }\n",
    "    }\n",
    "\n",
    "for city, city_info in cities.items():\n",
    "    country = city_info['country'].title()\n",
    "    population = city_info['population']\n",
    "    mountains = city_info['nearby mountains'].title()\n",
    "\n",
    "    print(\"\\n\" + city.title() + \" is in \" + country + \".\")\n",
    "    print(\"  It has a population of about \" + str(population) + \".\")\n",
    "    print(\"  The \" + mountains + \" mountains are nearby.\")"
   ]
  },
  {
   "cell_type": "code",
   "execution_count": null,
   "metadata": {},
   "outputs": [],
   "source": []
  },
  {
   "cell_type": "code",
   "execution_count": null,
   "metadata": {},
   "outputs": [],
   "source": []
  },
  {
   "cell_type": "markdown",
   "metadata": {},
   "source": [
    "Question3:\n",
    "A movie theater charges different ticket prices depending on a person’s age. If a person is under the age of 3, the ticket is free; if they are between 3 and 12, the ticket is $10; and if they are over age 12, the ticket is $15. Write a loop in which you ask users their age, and then tell them the cost of their movie ticket.\n"
   ]
  },
  {
   "cell_type": "code",
   "execution_count": 1,
   "metadata": {},
   "outputs": [
    {
     "name": "stdout",
     "output_type": "stream",
     "text": [
      "How old are you?\n",
      "Enter 'quit' when you are finished. 3\n",
      "  Your ticket is 10.\n",
      "How old are you?\n",
      "Enter 'quit' when you are finished. 7\n",
      "  Your ticket is 10.\n",
      "How old are you?\n",
      "Enter 'quit' when you are finished. 15\n",
      "  Your ticket is 15.\n",
      "How old are you?\n",
      "Enter 'quit' when you are finished. 2\n",
      "  You get in free!\n",
      "How old are you?\n",
      "Enter 'quit' when you are finished. quit\n"
     ]
    }
   ],
   "source": [
    "counter = \"How old are you?\"\n",
    "counter += \"\\nEnter 'quit' when you are finished. \"\n",
    "\n",
    "while True:\n",
    "    age = input(counter)\n",
    "    if age == 'quit':\n",
    "        break\n",
    "    age = int(age)\n",
    "\n",
    "    if age < 3:\n",
    "        print(\"  You get in free!\")\n",
    "    elif age < 13:\n",
    "        print(\"  Your ticket is 10.\")\n",
    "    else:\n",
    "        print(\"  Your ticket is 15.\")"
   ]
  },
  {
   "cell_type": "code",
   "execution_count": null,
   "metadata": {},
   "outputs": [],
   "source": []
  },
  {
   "cell_type": "code",
   "execution_count": null,
   "metadata": {},
   "outputs": [],
   "source": []
  },
  {
   "cell_type": "markdown",
   "metadata": {},
   "source": [
    "Question4:\n",
    "Write a function called favorite_book() that accepts one parameter, title. The function should print a message, such as One of my favorite books is Alice in Wonderland. Call the function, making sure to include a book title as an argument in the function call.\n"
   ]
  },
  {
   "cell_type": "code",
   "execution_count": 5,
   "metadata": {},
   "outputs": [
    {
     "name": "stdout",
     "output_type": "stream",
     "text": [
      "The Abstract Wild is one of my favorite books.\n"
     ]
    }
   ],
   "source": [
    "def favorite_book(title):\n",
    "    \"\"\"Display a message about someone's favorite book.\"\"\"\n",
    "    print(title + \" is one of my favorite books.\")\n",
    "\n",
    "favorite_book('The Abstract Wild')"
   ]
  },
  {
   "cell_type": "code",
   "execution_count": null,
   "metadata": {},
   "outputs": [],
   "source": []
  },
  {
   "cell_type": "markdown",
   "metadata": {},
   "source": [
    "Question5:\n",
    "Guess the number game\n",
    "Write a program which randomly generate a number between 1 to 30 and ask the user in input field to guess the correct number. Give three chances to user guess the number and also give hint to user if hidden number is greater or smaller than the number he given to input field.\n"
   ]
  },
  {
   "cell_type": "code",
   "execution_count": null,
   "metadata": {},
   "outputs": [
    {
     "name": "stdout",
     "output_type": "stream",
     "text": [
      "Guess a number (<30): 12\n",
      "Greater...\n",
      "You guessed it! The number was 12 in 1 tries\n",
      "Guess a number (<30): 45\n",
      "Smaller...\n",
      "You guessed it! The number was 45 in 2 tries\n",
      "Guess a number (<30): 30\n",
      "Smaller...\n",
      "You guessed it! The number was 30 in 3 tries\n"
     ]
    }
   ],
   "source": [
    "import random\n",
    " \n",
    "secret_number = random.randint(1, 30)\n",
    "tries, guess = 0, 0\n",
    "while guess != secret_number:\n",
    "    guess = int(input(\"Guess a number (<30): \"))\n",
    "    if guess > secret_number:\n",
    "        print(\"Smaller...\")\n",
    "    elif guess < secret_number:\n",
    "        print(\"Greater...\")\n",
    "    tries += 1\n",
    " \n",
    "    print('You guessed it! The number was {} in {} tries'.format(guess, tries))"
   ]
  },
  {
   "cell_type": "code",
   "execution_count": null,
   "metadata": {},
   "outputs": [],
   "source": []
  },
  {
   "cell_type": "code",
   "execution_count": null,
   "metadata": {},
   "outputs": [],
   "source": []
  },
  {
   "cell_type": "code",
   "execution_count": null,
   "metadata": {},
   "outputs": [],
   "source": []
  },
  {
   "cell_type": "code",
   "execution_count": null,
   "metadata": {},
   "outputs": [],
   "source": []
  }
 ],
 "metadata": {
  "kernelspec": {
   "display_name": "Python 3",
   "language": "python",
   "name": "python3"
  },
  "language_info": {
   "codemirror_mode": {
    "name": "ipython",
    "version": 3
   },
   "file_extension": ".py",
   "mimetype": "text/x-python",
   "name": "python",
   "nbconvert_exporter": "python",
   "pygments_lexer": "ipython3",
   "version": "3.7.3"
  }
 },
 "nbformat": 4,
 "nbformat_minor": 2
}
